{
 "cells": [
  {
   "cell_type": "code",
   "execution_count": 1,
   "id": "78ec7332",
   "metadata": {},
   "outputs": [],
   "source": [
    "import numpy as np\n",
    "\n",
    "dataset_train = np.genfromtxt('A2Q2train.csv', delimiter=',')"
   ]
  },
  {
   "cell_type": "code",
   "execution_count": 2,
   "id": "bf6e661a",
   "metadata": {},
   "outputs": [
    {
     "data": {
      "text/plain": [
       "(10000, 101)"
      ]
     },
     "execution_count": 2,
     "metadata": {},
     "output_type": "execute_result"
    }
   ],
   "source": [
    "dataset_train.shape"
   ]
  },
  {
   "cell_type": "markdown",
   "id": "d3108600",
   "metadata": {},
   "source": [
    "## without Bias"
   ]
  },
  {
   "cell_type": "code",
   "execution_count": 3,
   "id": "f3c48431",
   "metadata": {},
   "outputs": [
    {
     "data": {
      "text/plain": [
       "((100, 10000), (10000,))"
      ]
     },
     "execution_count": 3,
     "metadata": {},
     "output_type": "execute_result"
    }
   ],
   "source": [
    "X = dataset_train[:, :-1].T\n",
    "y = dataset_train[:, -1]\n",
    "X.shape, y.shape"
   ]
  },
  {
   "cell_type": "code",
   "execution_count": 4,
   "id": "62db2810",
   "metadata": {},
   "outputs": [],
   "source": [
    "w_ML_wo_bias = np.linalg.inv(X @ X.T) @ X @ y"
   ]
  },
  {
   "cell_type": "code",
   "execution_count": 5,
   "id": "835320a7",
   "metadata": {},
   "outputs": [
    {
     "data": {
      "text/plain": [
       "(100,)"
      ]
     },
     "execution_count": 5,
     "metadata": {},
     "output_type": "execute_result"
    }
   ],
   "source": [
    "w_ML_wo_bias.shape"
   ]
  },
  {
   "cell_type": "code",
   "execution_count": 6,
   "id": "aa219271",
   "metadata": {},
   "outputs": [
    {
     "data": {
      "text/plain": [
       "np.float64(0.03968644186213123)"
      ]
     },
     "execution_count": 6,
     "metadata": {},
     "output_type": "execute_result"
    }
   ],
   "source": [
    "error_wo_bias = np.mean((y - w_ML_wo_bias.T @ X) ** 2)\n",
    "error_wo_bias"
   ]
  },
  {
   "cell_type": "markdown",
   "id": "27d29e6d",
   "metadata": {},
   "source": [
    "## with Bias"
   ]
  },
  {
   "cell_type": "code",
   "execution_count": 7,
   "id": "7d9be03a",
   "metadata": {},
   "outputs": [
    {
     "data": {
      "text/plain": [
       "(101, 10000)"
      ]
     },
     "execution_count": 7,
     "metadata": {},
     "output_type": "execute_result"
    }
   ],
   "source": [
    "X_b = np.vstack((np.ones((1, X.shape[1])), X))\n",
    "X_b.shape"
   ]
  },
  {
   "cell_type": "code",
   "execution_count": 8,
   "id": "fc436162",
   "metadata": {},
   "outputs": [
    {
     "name": "stdout",
     "output_type": "stream",
     "text": [
      "(101,)\n",
      "0.039685210868200226\n"
     ]
    }
   ],
   "source": [
    "w_ML_w_bias = np.linalg.inv(X_b @ X_b.T) @ X_b @ y\n",
    "print(w_ML_w_bias.shape)\n",
    "error_w_bias = np.mean((y - w_ML_w_bias.T @ X_b) ** 2)\n",
    "print(error_w_bias)"
   ]
  },
  {
   "cell_type": "code",
   "execution_count": 9,
   "id": "9956268f",
   "metadata": {},
   "outputs": [
    {
     "name": "stdout",
     "output_type": "stream",
     "text": [
      "Weight 0: without bias = -0.007849610084459335, with bias = -0.008228574310631988\n",
      "Weight 1: without bias = -0.013671531994035712, with bias = -0.014073508127165683\n",
      "Weight 2: without bias = -0.0036165643768049163, with bias = -0.004029427669883151\n",
      "Weight 3: without bias = 0.002649091619741785, with bias = 0.0023122004867955973\n",
      "Weight 4: without bias = 0.18855144605269003, with bias = 0.1881571244493383\n",
      "Weight 5: without bias = 0.0026531465683411956, with bias = 0.002238200686131571\n",
      "Weight 6: without bias = 0.009465317866479604, with bias = 0.009118227738294515\n",
      "Weight 7: without bias = 0.17980948151078008, with bias = 0.17943243002239312\n",
      "Weight 8: without bias = 0.003737573170149694, with bias = 0.0033288496756185906\n",
      "Weight 9: without bias = 0.4996089435657779, with bias = 0.49925066644912014\n",
      "Weight 10: without bias = 0.008358362641620588, with bias = 0.007986284088100662\n",
      "Weight 11: without bias = 0.004291087754421122, with bias = 0.003946896766892177\n",
      "Weight 12: without bias = 0.014214117882804939, with bias = 0.013860978289532658\n",
      "Weight 13: without bias = 0.0039423241369838, with bias = 0.0035921351903946235\n",
      "Weight 14: without bias = 0.009367958895392783, with bias = 0.00895875250855599\n",
      "Weight 15: without bias = -0.001120382737956803, with bias = -0.0013980120821216815\n",
      "Weight 16: without bias = 0.0033572749820342425, with bias = 0.003005606823986977\n",
      "Weight 17: without bias = 0.0011615221329533722, with bias = 0.0008394568701457755\n",
      "Weight 18: without bias = -0.009408847041520313, with bias = -0.009807586859652224\n",
      "Weight 19: without bias = -0.0024557547420917605, with bias = -0.0028655361404042456\n",
      "Weight 20: without bias = -0.011740962856130702, with bias = -0.012143660606163028\n",
      "Weight 21: without bias = -0.010196061167268969, with bias = -0.010588939841032086\n",
      "Weight 22: without bias = 0.00795771319834463, with bias = 0.007545004255912632\n",
      "Weight 23: without bias = -0.010057485343437166, with bias = -0.010459817703467506\n",
      "Weight 24: without bias = 0.006048829394285277, with bias = 0.00575759845366099\n",
      "Weight 25: without bias = -0.0046734519275903885, with bias = -0.005052713406665837\n",
      "Weight 26: without bias = -0.003090915472904349, with bias = -0.0034119933416109187\n",
      "Weight 27: without bias = 0.0081490919143245, with bias = 0.007737771581391686\n",
      "Weight 28: without bias = 0.012026459932620519, with bias = 0.011603953445694433\n",
      "Weight 29: without bias = -0.006824581672559678, with bias = -0.007232260170934965\n",
      "Weight 30: without bias = -0.008654055394963334, with bias = -0.008989241020691242\n",
      "Weight 31: without bias = 0.0009862734886730284, with bias = 0.000616057646257398\n",
      "Weight 32: without bias = 0.004929680116000354, with bias = 0.004576962988899496\n",
      "Weight 33: without bias = 0.0059977245962309494, with bias = 0.005582970636433017\n",
      "Weight 34: without bias = -0.013466785949422154, with bias = -0.01381130673327094\n",
      "Weight 35: without bias = 0.0010707573024901357, with bias = 0.0007163067864395245\n",
      "Weight 36: without bias = 0.013274599181139423, with bias = 0.012891582028002287\n",
      "Weight 37: without bias = -0.011414874151106577, with bias = -0.01183634778221633\n",
      "Weight 38: without bias = -0.0201056697199412, with bias = -0.020511136431077093\n",
      "Weight 39: without bias = 0.5850962400354807, with bias = 0.5846919737940257\n",
      "Weight 40: without bias = 0.000494483254962555, with bias = 1.3722251367899452e-05\n",
      "Weight 41: without bias = -0.000786666916496313, with bias = -0.001181947419092914\n",
      "Weight 42: without bias = -0.0027192657432545814, with bias = -0.0031131862031759244\n",
      "Weight 43: without bias = -0.009540219379590383, with bias = -0.009894420651549543\n",
      "Weight 44: without bias = -0.005441610587493116, with bias = -0.005827158774219923\n",
      "Weight 45: without bias = 0.009806792089971754, with bias = 0.009373986150214904\n",
      "Weight 46: without bias = -0.006725406237034635, with bias = -0.007151577946995155\n",
      "Weight 47: without bias = -0.000445414300084615, with bias = -0.0008011127894231793\n",
      "Weight 48: without bias = 0.006985165099559834, with bias = 0.006619218390972591\n",
      "Weight 49: without bias = 0.03161389069010653, with bias = 0.031206723334227686\n",
      "Weight 50: without bias = 0.45176348474491856, with bias = 0.4513544883994073\n",
      "Weight 51: without bias = -0.008752213781804248, with bias = -0.009087723365993478\n",
      "Weight 52: without bias = 0.0025516738995463306, with bias = 0.00217671679035796\n",
      "Weight 53: without bias = 0.0042492114870511495, with bias = 0.0038458886250720354\n",
      "Weight 54: without bias = 0.2898479266497895, with bias = 0.28939670229790265\n",
      "Weight 55: without bias = 0.007037232540804291, with bias = 0.006707174885768767\n",
      "Weight 56: without bias = -0.00195796945253684, with bias = -0.0023462235126661575\n",
      "Weight 57: without bias = 0.014152388254330683, with bias = 0.013789760745881396\n",
      "Weight 58: without bias = -0.010650816977882296, with bias = -0.011059272903940522\n",
      "Weight 59: without bias = 0.7727439032691682, with bias = 0.7723555984965668\n",
      "Weight 60: without bias = -0.005671260469943339, with bias = -0.006108059143805435\n",
      "Weight 61: without bias = -0.000630026187259311, with bias = -0.0010257809748120926\n",
      "Weight 62: without bias = 0.006509430148207818, with bias = 0.0061334933972996344\n",
      "Weight 63: without bias = -0.004840191651147862, with bias = -0.005176966327789679\n",
      "Weight 64: without bias = 0.00463832327924886, with bias = 0.0042439262973557185\n",
      "Weight 65: without bias = 0.00454887178212466, with bias = 0.004126839018286057\n",
      "Weight 66: without bias = -0.002994751144282895, with bias = -0.003426635658980593\n",
      "Weight 67: without bias = 0.008387816958160793, with bias = 0.007994257035056962\n",
      "Weight 68: without bias = -0.002475587179800339, with bias = -0.0028438018550673294\n",
      "Weight 69: without bias = 0.0009009479169279841, with bias = 0.0004967394415174436\n",
      "Weight 70: without bias = 0.0011471351134700117, with bias = 0.0007350290653695898\n",
      "Weight 71: without bias = -0.0018764134132889798, with bias = -0.0022180618069758892\n",
      "Weight 72: without bias = -0.010517575979381615, with bias = -0.010816166570004733\n",
      "Weight 73: without bias = -0.009313041101391521, with bias = -0.009693821791390684\n",
      "Weight 74: without bias = -0.0012355000236175182, with bias = -0.0016135579546595544\n",
      "Weight 75: without bias = 0.5977975588131335, with bias = 0.5973508566681126\n",
      "Weight 76: without bias = -0.0047862501194007, with bias = -0.005165569080578556\n",
      "Weight 77: without bias = -0.011372785206179348, with bias = -0.011737007513282001\n",
      "Weight 78: without bias = 0.0028847705862826215, with bias = 0.002502693124392179\n",
      "Weight 79: without bias = 0.8489997756210723, with bias = 0.8487277043852309\n",
      "Weight 80: without bias = -0.010892423548603591, with bias = -0.011331624340532434\n",
      "Weight 81: without bias = 0.0022634648940846464, with bias = 0.0018872957525383899\n",
      "Weight 82: without bias = -0.0013809979786229623, with bias = -0.0016936538483333444\n",
      "Weight 83: without bias = -0.006359346907347532, with bias = -0.0067407622134906045\n",
      "Weight 84: without bias = 0.005837841089541764, with bias = 0.0054592174566087445\n",
      "Weight 85: without bias = 0.005692867546441001, with bias = 0.005372474254763351\n",
      "Weight 86: without bias = 0.005355668592101539, with bias = 0.004957157636344418\n",
      "Weight 87: without bias = -0.008206163152802428, with bias = -0.008590691433761758\n",
      "Weight 88: without bias = 0.012988401508259542, with bias = 0.01262174570506941\n",
      "Weight 89: without bias = -0.002305756330283265, with bias = -0.0027366560715000945\n",
      "Weight 90: without bias = -0.00012226377157142226, with bias = -0.0004928736874521278\n",
      "Weight 91: without bias = 0.008666291733109052, with bias = 0.008219222921443003\n",
      "Weight 92: without bias = -0.0042944629843597384, with bias = -0.004742080310144829\n",
      "Weight 93: without bias = 0.005695108978802623, with bias = 0.005305297276180836\n",
      "Weight 94: without bias = 0.007554833520464901, with bias = 0.007151707455189699\n",
      "Weight 95: without bias = -0.009435408431676708, with bias = -0.009818044034487106\n",
      "Weight 96: without bias = 0.018290544635119282, with bias = 0.017889513166384007\n",
      "Weight 97: without bias = -0.0011699888513614087, with bias = -0.0015327589473944497\n",
      "Weight 98: without bias = -0.0026159913540614865, with bias = -0.003014996374788477\n",
      "Weight 99: without bias = -0.008586161160254341, with bias = -0.00900650234185373\n"
     ]
    }
   ],
   "source": [
    "for i in range(100):\n",
    "    print(f\"Weight {i}: without bias = {w_ML_wo_bias[i]}, with bias = {w_ML_w_bias[i+1]}\")"
   ]
  },
  {
   "cell_type": "code",
   "execution_count": 10,
   "id": "cd3e762c",
   "metadata": {},
   "outputs": [
    {
     "data": {
      "text/plain": [
       "np.float64(0.9999973781702483)"
      ]
     },
     "execution_count": 10,
     "metadata": {},
     "output_type": "execute_result"
    }
   ],
   "source": [
    "cosine_sim = (w_ML_wo_bias @ w_ML_w_bias[1:]) / (np.linalg.norm(w_ML_wo_bias) * np.linalg.norm(w_ML_w_bias[1:]))\n",
    "cosine_sim"
   ]
  },
  {
   "cell_type": "markdown",
   "id": "bf2879b8",
   "metadata": {},
   "source": [
    "So, might as well do without bias. \n",
    "ie. Fit Line that passes through origin"
   ]
  },
  {
   "cell_type": "markdown",
   "id": "43d0fd3a",
   "metadata": {},
   "source": [
    "## Gradient Descent"
   ]
  },
  {
   "cell_type": "code",
   "execution_count": 11,
   "id": "45fda851",
   "metadata": {},
   "outputs": [],
   "source": [
    "np.random.seed(42)"
   ]
  },
  {
   "cell_type": "code",
   "execution_count": 12,
   "id": "a104d7ff",
   "metadata": {},
   "outputs": [],
   "source": [
    "w_init = np.random.randn(X.shape[0])"
   ]
  },
  {
   "cell_type": "code",
   "execution_count": 13,
   "id": "871cfaba",
   "metadata": {},
   "outputs": [],
   "source": [
    "w = w_init.copy()\n",
    "learning_rate = 0.02\n",
    "distances_gd = []\n",
    "distances_gd.append(np.linalg.norm(w - w_ML_wo_bias))\n",
    "for i in range(5000):\n",
    "    gradient = 2 * X @ (X.T @ w - y) / X.shape[1]\n",
    "    w -= learning_rate * gradient\n",
    "    distances_gd.append(np.linalg.norm(w - w_ML_wo_bias))"
   ]
  },
  {
   "cell_type": "code",
   "execution_count": 14,
   "id": "3b173605",
   "metadata": {},
   "outputs": [
    {
     "data": {
      "text/plain": [
       "Text(0.5, 1.0, 'Gradient Descent Convergence')"
      ]
     },
     "execution_count": 14,
     "metadata": {},
     "output_type": "execute_result"
    },
    {
     "data": {
      "image/png": "[encoded data removed]",
      "text/plain": [
       "<Figure size 640x480 with 1 Axes>"
      ]
     },
     "metadata": {},
     "output_type": "display_data"
    }
   ],
   "source": [
    "import matplotlib.pyplot as plt\n",
    "\n",
    "plt.plot(distances_gd)\n",
    "plt.xlabel('Iterations (t)')\n",
    "plt.ylabel('Distance from w_ML_wo_bias (||w(t) - w_ML_wo_bias||)')\n",
    "plt.title('Gradient Descent Convergence')"
   ]
  },
  {
   "cell_type": "code",
   "execution_count": 15,
   "id": "6b19fd23",
   "metadata": {},
   "outputs": [
    {
     "data": {
      "text/plain": [
       "[np.float64(3.737121869923336e-06),\n",
       " np.float64(3.726646724203191e-06),\n",
       " np.float64(3.7162009971071194e-06),\n",
       " np.float64(3.7057846058067575e-06),\n",
       " np.float64(3.6953974677076956e-06),\n",
       " np.float64(3.6850395004824463e-06),\n",
       " np.float64(3.674710622017956e-06),\n",
       " np.float64(3.6644107504312912e-06),\n",
       " np.float64(3.654139804087462e-06),\n",
       " np.float64(3.6438977015657024e-06)]"
      ]
     },
     "execution_count": 15,
     "metadata": {},
     "output_type": "execute_result"
    }
   ],
   "source": [
    "distances_gd[-10:]"
   ]
  },
  {
   "cell_type": "code",
   "execution_count": 16,
   "id": "15156dd7",
   "metadata": {},
   "outputs": [
    {
     "data": {
      "text/plain": [
       "array([-7.84932614e-03, -1.36716146e-02, -3.61602802e-03,  2.64952762e-03,\n",
       "        1.88551878e-01,  2.65304079e-03,  9.46592406e-03,  1.79810329e-01,\n",
       "        3.73733389e-03,  4.99609533e-01,  8.35825893e-03,  4.29069389e-03,\n",
       "        1.42144642e-02,  3.94186313e-03,  9.36762906e-03, -1.12101991e-03,\n",
       "        3.35635874e-03,  1.16076776e-03, -9.40949533e-03, -2.45661070e-03,\n",
       "       -1.17408608e-02, -1.01962158e-02,  7.95775377e-03, -1.00575504e-02,\n",
       "        6.04858044e-03, -4.67362896e-03, -3.09073530e-03,  8.14936504e-03,\n",
       "        1.20264312e-02, -6.82499701e-03, -8.65411412e-03,  9.87426162e-04,\n",
       "        4.92955604e-03,  5.99761021e-03, -1.34665558e-02,  1.07034144e-03,\n",
       "        1.32743999e-02, -1.14153153e-02, -2.01055661e-02,  5.85095733e-01,\n",
       "        4.95170212e-04, -7.86467180e-04, -2.71905471e-03, -9.54021896e-03,\n",
       "       -5.44190607e-03,  9.80682514e-03, -6.72539491e-03, -4.45363158e-04,\n",
       "        6.98486246e-03,  3.16133359e-02,  4.51764050e-01, -8.75168646e-03,\n",
       "        2.55172286e-03,  4.24983765e-03,  2.89847825e-01,  7.03740286e-03,\n",
       "       -1.95800140e-03,  1.41523302e-02, -1.06510353e-02,  7.72744251e-01,\n",
       "       -5.67098003e-03, -6.30214132e-04,  6.50898286e-03, -4.84028900e-03,\n",
       "        4.63867035e-03,  4.54883840e-03, -2.99470208e-03,  8.38806074e-03,\n",
       "       -2.47560498e-03,  9.00358679e-04,  1.14716369e-03, -1.87606316e-03,\n",
       "       -1.05176559e-02, -9.31275682e-03, -1.23625830e-03,  5.97797621e-01,\n",
       "       -4.78627385e-03, -1.13730335e-02,  2.88507685e-03,  8.48999732e-01,\n",
       "       -1.08923876e-02,  2.26339254e-03, -1.38046485e-03, -6.35925811e-03,\n",
       "        5.83754182e-03,  5.69312818e-03,  5.35594128e-03, -8.20624475e-03,\n",
       "        1.29883191e-02, -2.30583232e-03, -1.22126375e-04,  8.66642199e-03,\n",
       "       -4.29420420e-03,  5.69515870e-03,  7.55490150e-03, -9.43566848e-03,\n",
       "        1.82903782e-02, -1.16970226e-03, -2.61590015e-03, -8.58638303e-03])"
      ]
     },
     "execution_count": 16,
     "metadata": {},
     "output_type": "execute_result"
    }
   ],
   "source": [
    "w"
   ]
  },
  {
   "cell_type": "code",
   "execution_count": 17,
   "id": "bca71723",
   "metadata": {},
   "outputs": [
    {
     "data": {
      "text/plain": [
       "array([-7.84961008e-03, -1.36715320e-02, -3.61656438e-03,  2.64909162e-03,\n",
       "        1.88551446e-01,  2.65314657e-03,  9.46531787e-03,  1.79809482e-01,\n",
       "        3.73757317e-03,  4.99608944e-01,  8.35836264e-03,  4.29108775e-03,\n",
       "        1.42141179e-02,  3.94232414e-03,  9.36795890e-03, -1.12038274e-03,\n",
       "        3.35727498e-03,  1.16152213e-03, -9.40884704e-03, -2.45575474e-03,\n",
       "       -1.17409629e-02, -1.01960612e-02,  7.95771320e-03, -1.00574853e-02,\n",
       "        6.04882939e-03, -4.67345193e-03, -3.09091547e-03,  8.14909191e-03,\n",
       "        1.20264599e-02, -6.82458167e-03, -8.65405539e-03,  9.86273489e-04,\n",
       "        4.92968012e-03,  5.99772460e-03, -1.34667859e-02,  1.07075730e-03,\n",
       "        1.32745992e-02, -1.14148742e-02, -2.01056697e-02,  5.85096240e-01,\n",
       "        4.94483255e-04, -7.86666916e-04, -2.71926574e-03, -9.54021938e-03,\n",
       "       -5.44161059e-03,  9.80679209e-03, -6.72540624e-03, -4.45414300e-04,\n",
       "        6.98516510e-03,  3.16138907e-02,  4.51763485e-01, -8.75221378e-03,\n",
       "        2.55167390e-03,  4.24921149e-03,  2.89847927e-01,  7.03723254e-03,\n",
       "       -1.95796945e-03,  1.41523883e-02, -1.06508170e-02,  7.72743903e-01,\n",
       "       -5.67126047e-03, -6.30026187e-04,  6.50943015e-03, -4.84019165e-03,\n",
       "        4.63832328e-03,  4.54887178e-03, -2.99475114e-03,  8.38781696e-03,\n",
       "       -2.47558718e-03,  9.00947917e-04,  1.14713511e-03, -1.87641341e-03,\n",
       "       -1.05175760e-02, -9.31304110e-03, -1.23550002e-03,  5.97797559e-01,\n",
       "       -4.78625012e-03, -1.13727852e-02,  2.88477059e-03,  8.48999776e-01,\n",
       "       -1.08924235e-02,  2.26346489e-03, -1.38099798e-03, -6.35934691e-03,\n",
       "        5.83784109e-03,  5.69286755e-03,  5.35566859e-03, -8.20616315e-03,\n",
       "        1.29884015e-02, -2.30575633e-03, -1.22263772e-04,  8.66629173e-03,\n",
       "       -4.29446298e-03,  5.69510898e-03,  7.55483352e-03, -9.43540843e-03,\n",
       "        1.82905446e-02, -1.16998885e-03, -2.61599135e-03, -8.58616116e-03])"
      ]
     },
     "execution_count": 17,
     "metadata": {},
     "output_type": "execute_result"
    }
   ],
   "source": [
    "w_ML_wo_bias"
   ]
  },
  {
   "cell_type": "code",
   "execution_count": 18,
   "id": "4af3f43a",
   "metadata": {},
   "outputs": [
    {
     "data": {
      "text/plain": [
       "np.float64(0.03968644186306164)"
      ]
     },
     "execution_count": 18,
     "metadata": {},
     "output_type": "execute_result"
    }
   ],
   "source": [
    "error_gradient_descent = np.mean((y - w.T @ X) ** 2)\n",
    "error_gradient_descent"
   ]
  },
  {
   "cell_type": "code",
   "execution_count": 19,
   "id": "8d2d6622",
   "metadata": {},
   "outputs": [
    {
     "data": {
      "text/plain": [
       "np.float64(0.9999999999975125)"
      ]
     },
     "execution_count": 19,
     "metadata": {},
     "output_type": "execute_result"
    }
   ],
   "source": [
    "cosine_sim_gd = (w @ w_ML_wo_bias) / (np.linalg.norm(w) * np.linalg.norm(w_ML_wo_bias))\n",
    "cosine_sim_gd"
   ]
  },
  {
   "cell_type": "markdown",
   "id": "3ef81f19",
   "metadata": {},
   "source": [
    "## Stochastic Gradient Descent"
   ]
  },
  {
   "cell_type": "code",
   "execution_count": 20,
   "id": "772c22fe",
   "metadata": {},
   "outputs": [],
   "source": [
    "w = w_init.copy()\n",
    "learning_rate = 0.02\n",
    "distances_sgd = []\n",
    "distances_sgd.append(np.linalg.norm(w - w_ML_wo_bias))\n",
    "\n",
    "total_samples = X.shape[1]\n",
    "batch_size = 100\n",
    "\n",
    "for i in range(5000):\n",
    "    column_indices = np.random.choice(total_samples, batch_size, replace=False)\n",
    "    X_batch = X[:, column_indices]\n",
    "    y_batch = y[column_indices]\n",
    "    gradient = 2 * X_batch @ (X_batch.T @ w - y_batch) / X_batch.shape[1]\n",
    "    w -= learning_rate * gradient\n",
    "    distances_sgd.append(np.linalg.norm(w - w_ML_wo_bias))"
   ]
  },
  {
   "cell_type": "code",
   "execution_count": 21,
   "id": "409114f6",
   "metadata": {},
   "outputs": [
    {
     "data": {
      "text/plain": [
       "Text(0.5, 1.0, 'Stochastic Gradient Descent Convergence')"
      ]
     },
     "execution_count": 21,
     "metadata": {},
     "output_type": "execute_result"
    },
    {
     "data": {
      "image/png": "[encoded data removed]",
      "text/plain": [
       "<Figure size 640x480 with 1 Axes>"
      ]
     },
     "metadata": {},
     "output_type": "display_data"
    }
   ],
   "source": [
    "plt.plot(distances_sgd)\n",
    "plt.xlabel('Iterations (t)')\n",
    "plt.ylabel('Distance from w_ML_wo_bias (||w(t) - w_ML_wo_bias||)')\n",
    "plt.title('Stochastic Gradient Descent Convergence')"
   ]
  },
  {
   "cell_type": "code",
   "execution_count": 22,
   "id": "72d591c4",
   "metadata": {},
   "outputs": [
    {
     "data": {
      "text/plain": [
       "array([-8.18548046e-03, -9.28350542e-03, -3.06890973e-03,  7.52871258e-03,\n",
       "        1.89909052e-01,  3.37621347e-03,  6.70481481e-03,  1.78050209e-01,\n",
       "        5.35889889e-03,  5.04951125e-01,  1.08955350e-02,  3.17522906e-03,\n",
       "        8.66397876e-03,  7.62608286e-03,  6.44626957e-03, -3.48873308e-03,\n",
       "        1.78809645e-03,  2.85379311e-03, -9.75612976e-03, -5.98100614e-03,\n",
       "       -1.29326845e-02, -1.03605057e-02,  7.55504927e-03, -7.16714000e-03,\n",
       "        3.72698447e-04, -5.59797949e-03, -2.49354288e-04,  1.22996039e-02,\n",
       "        1.45415520e-02, -1.06202182e-02, -4.78074310e-03, -4.22428398e-03,\n",
       "        8.39139103e-03,  5.60575693e-03, -1.46609995e-02,  4.19967755e-03,\n",
       "        1.09071598e-02, -1.17584858e-02, -2.22250581e-02,  5.84271763e-01,\n",
       "       -1.32869398e-03, -9.96262624e-04, -5.04523705e-03, -1.13149644e-02,\n",
       "       -6.66643655e-03,  1.21984528e-02, -4.79655317e-03, -2.92314004e-03,\n",
       "        8.15945155e-03,  2.89051548e-02,  4.51667925e-01, -9.33213312e-03,\n",
       "        1.32954521e-03,  4.75302496e-03,  2.89696480e-01,  1.04722925e-02,\n",
       "       -4.57482904e-03,  1.72955647e-02, -8.71745911e-03,  7.75281777e-01,\n",
       "       -7.29460518e-03, -2.84275411e-03,  7.19334557e-03, -5.80421769e-03,\n",
       "        1.05329430e-02,  5.68936646e-03, -7.00366730e-03,  1.14778020e-02,\n",
       "        8.94749531e-06,  1.29118928e-03,  4.91864673e-04, -1.01344288e-03,\n",
       "       -5.91956223e-03, -8.66468394e-03, -4.36006081e-04,  5.94693368e-01,\n",
       "       -7.36832175e-03, -1.74932803e-02,  4.97140885e-03,  8.48182500e-01,\n",
       "       -1.09629158e-02,  2.00803957e-03,  8.77002260e-04, -8.64078424e-03,\n",
       "        2.76804503e-03,  7.47418397e-03,  6.98708819e-03, -1.17538895e-02,\n",
       "        1.58452207e-02, -2.78826866e-03, -2.29453568e-03,  4.70348646e-03,\n",
       "       -6.76324063e-03,  8.78542862e-03,  4.77729097e-03, -2.07546619e-03,\n",
       "        2.03401868e-02, -8.74258861e-03, -7.11781723e-04, -4.36999901e-03])"
      ]
     },
     "execution_count": 22,
     "metadata": {},
     "output_type": "execute_result"
    }
   ],
   "source": [
    "w"
   ]
  },
  {
   "cell_type": "code",
   "execution_count": 23,
   "id": "b45c6b86",
   "metadata": {},
   "outputs": [
    {
     "data": {
      "text/plain": [
       "array([-7.84961008e-03, -1.36715320e-02, -3.61656438e-03,  2.64909162e-03,\n",
       "        1.88551446e-01,  2.65314657e-03,  9.46531787e-03,  1.79809482e-01,\n",
       "        3.73757317e-03,  4.99608944e-01,  8.35836264e-03,  4.29108775e-03,\n",
       "        1.42141179e-02,  3.94232414e-03,  9.36795890e-03, -1.12038274e-03,\n",
       "        3.35727498e-03,  1.16152213e-03, -9.40884704e-03, -2.45575474e-03,\n",
       "       -1.17409629e-02, -1.01960612e-02,  7.95771320e-03, -1.00574853e-02,\n",
       "        6.04882939e-03, -4.67345193e-03, -3.09091547e-03,  8.14909191e-03,\n",
       "        1.20264599e-02, -6.82458167e-03, -8.65405539e-03,  9.86273489e-04,\n",
       "        4.92968012e-03,  5.99772460e-03, -1.34667859e-02,  1.07075730e-03,\n",
       "        1.32745992e-02, -1.14148742e-02, -2.01056697e-02,  5.85096240e-01,\n",
       "        4.94483255e-04, -7.86666916e-04, -2.71926574e-03, -9.54021938e-03,\n",
       "       -5.44161059e-03,  9.80679209e-03, -6.72540624e-03, -4.45414300e-04,\n",
       "        6.98516510e-03,  3.16138907e-02,  4.51763485e-01, -8.75221378e-03,\n",
       "        2.55167390e-03,  4.24921149e-03,  2.89847927e-01,  7.03723254e-03,\n",
       "       -1.95796945e-03,  1.41523883e-02, -1.06508170e-02,  7.72743903e-01,\n",
       "       -5.67126047e-03, -6.30026187e-04,  6.50943015e-03, -4.84019165e-03,\n",
       "        4.63832328e-03,  4.54887178e-03, -2.99475114e-03,  8.38781696e-03,\n",
       "       -2.47558718e-03,  9.00947917e-04,  1.14713511e-03, -1.87641341e-03,\n",
       "       -1.05175760e-02, -9.31304110e-03, -1.23550002e-03,  5.97797559e-01,\n",
       "       -4.78625012e-03, -1.13727852e-02,  2.88477059e-03,  8.48999776e-01,\n",
       "       -1.08924235e-02,  2.26346489e-03, -1.38099798e-03, -6.35934691e-03,\n",
       "        5.83784109e-03,  5.69286755e-03,  5.35566859e-03, -8.20616315e-03,\n",
       "        1.29884015e-02, -2.30575633e-03, -1.22263772e-04,  8.66629173e-03,\n",
       "       -4.29446298e-03,  5.69510898e-03,  7.55483352e-03, -9.43540843e-03,\n",
       "        1.82905446e-02, -1.16998885e-03, -2.61599135e-03, -8.58616116e-03])"
      ]
     },
     "execution_count": 23,
     "metadata": {},
     "output_type": "execute_result"
    }
   ],
   "source": [
    "w_ML_wo_bias"
   ]
  },
  {
   "cell_type": "code",
   "execution_count": 24,
   "id": "323e199f",
   "metadata": {},
   "outputs": [
    {
     "data": {
      "text/plain": [
       "np.float64(0.03975485404411303)"
      ]
     },
     "execution_count": 24,
     "metadata": {},
     "output_type": "execute_result"
    }
   ],
   "source": [
    "error_stochastic_gradient_descent = np.mean((y - w.T @ X) ** 2)\n",
    "error_stochastic_gradient_descent"
   ]
  },
  {
   "cell_type": "code",
   "execution_count": 25,
   "id": "f8e3e578",
   "metadata": {},
   "outputs": [
    {
     "data": {
      "text/plain": [
       "np.float64(0.9998477860943157)"
      ]
     },
     "execution_count": 25,
     "metadata": {},
     "output_type": "execute_result"
    }
   ],
   "source": [
    "cosine_sim_sgd = (w @ w_ML_wo_bias) / (np.linalg.norm(w) * np.linalg.norm(w_ML_wo_bias))\n",
    "cosine_sim_sgd"
   ]
  },
  {
   "cell_type": "code",
   "execution_count": null,
   "id": "38606232",
   "metadata": {},
   "outputs": [
    {
     "data": {
      "text/plain": [
       "<matplotlib.legend.Legend at 0x130261a90>"
      ]
     },
     "execution_count": 41,
     "metadata": {},
     "output_type": "execute_result"
    },
    {
     "data": {
      "image/png": "[encoded data removed]",
      "text/plain": [
       "<Figure size 640x480 with 1 Axes>"
      ]
     },
     "metadata": {},
     "output_type": "display_data"
    }
   ],
   "source": [
    "plt.plot(distances_gd[:50], label='Gradient Descent')\n",
    "plt.plot(distances_sgd[:50], label='Stochastic Gradient Descent')\n",
    "plt.xlabel('Iterations (t)')\n",
    "plt.ylabel('Distance from w_ML_wo_bias (||w(t) - w_ML_wo_bias||)')\n",
    "plt.title('Convergence Comparison (start)')\n",
    "plt.legend()\n"
   ]
  },
  {
   "cell_type": "code",
   "execution_count": null,
   "id": "8b43a4e4",
   "metadata": {},
   "outputs": [
    {
     "data": {
      "text/plain": [
       "<matplotlib.legend.Legend at 0x130925f90>"
      ]
     },
     "execution_count": 42,
     "metadata": {},
     "output_type": "execute_result"
    },
    {
     "data": {
      "image/png": "[encoded data removed]",
      "text/plain": [
       "<Figure size 640x480 with 1 Axes>"
      ]
     },
     "metadata": {},
     "output_type": "display_data"
    }
   ],
   "source": [
    "plt.plot(distances_gd[-50:], label='Gradient Descent')\n",
    "plt.plot(distances_sgd[-50:], label='Stochastic Gradient Descent')\n",
    "plt.xlabel('Iterations (t)')\n",
    "plt.ylabel('Distance from w_ML_wo_bias (||w(t) - w_ML_wo_bias||)')\n",
    "plt.title('Convergence Comparison (end)')\n",
    "plt.legend()\n"
   ]
  },
  {
   "cell_type": "markdown",
   "id": "ad38ad1b",
   "metadata": {},
   "source": [
    "# Ridge Regression"
   ]
  },
  {
   "cell_type": "code",
   "execution_count": 29,
   "id": "ab11220e",
   "metadata": {},
   "outputs": [],
   "source": [
    "val_cols = np.random.choice(X.shape[1], 200, replace=False)"
   ]
  },
  {
   "cell_type": "code",
   "execution_count": 30,
   "id": "e2f4e6d1",
   "metadata": {},
   "outputs": [
    {
     "data": {
      "text/plain": [
       "((100, 9800), (100, 200), (9800,), (200,))"
      ]
     },
     "execution_count": 30,
     "metadata": {},
     "output_type": "execute_result"
    }
   ],
   "source": [
    "X_train = np.delete(X, val_cols, axis=1)\n",
    "X_val = X[:, val_cols]\n",
    "y_train = np.delete(y, val_cols, axis=0)\n",
    "y_val = y[val_cols]\n",
    "\n",
    "X_train.shape, X_val.shape, y_train.shape, y_val.shape"
   ]
  },
  {
   "cell_type": "code",
   "execution_count": 31,
   "id": "95d6050e",
   "metadata": {},
   "outputs": [],
   "source": [
    "from tqdm import tqdm"
   ]
  },
  {
   "cell_type": "code",
   "execution_count": 32,
   "id": "f1459fdb",
   "metadata": {},
   "outputs": [
    {
     "name": "stderr",
     "output_type": "stream",
     "text": [
      "100%|██████████| 7/7 [00:16<00:00,  2.39s/it]\n"
     ]
    }
   ],
   "source": [
    "lambda_coeffs = [0.001, 0.002, 0.005, 0.01, 0.02, 0.05, 0.1]\n",
    "val_errors = {}\n",
    "w_from_ridge = {}\n",
    "for lambda_coeff in tqdm(lambda_coeffs):\n",
    "    w = w_init.copy()\n",
    "    learning_rate = 0.02\n",
    "    for i in range(5000):\n",
    "        gradient = 2 * X_train @ (X_train.T @ w - y_train) / X_train.shape[1] + lambda_coeff*w\n",
    "        w -= learning_rate * gradient\n",
    "    val_error = np.mean((y_val - w.T @ X_val) ** 2)\n",
    "    val_errors[str(lambda_coeff)] = val_error\n",
    "    w_from_ridge[str(lambda_coeff)] = w\n"
   ]
  },
  {
   "cell_type": "code",
   "execution_count": 33,
   "id": "3fa85ed8",
   "metadata": {},
   "outputs": [
    {
     "data": {
      "text/plain": [
       "{'0.001': np.float64(0.03859565684608574),\n",
       " '0.002': np.float64(0.038471797342206),\n",
       " '0.005': np.float64(0.0381736203432074),\n",
       " '0.01': np.float64(0.03789718126364909),\n",
       " '0.02': np.float64(0.03801796585480601),\n",
       " '0.05': np.float64(0.04168913233893247),\n",
       " '0.1': np.float64(0.051887212415572745)}"
      ]
     },
     "execution_count": 33,
     "metadata": {},
     "output_type": "execute_result"
    }
   ],
   "source": [
    "val_errors"
   ]
  },
  {
   "cell_type": "code",
   "execution_count": 34,
   "id": "0b18a4c3",
   "metadata": {},
   "outputs": [
    {
     "data": {
      "text/plain": [
       "Text(0.5, 1.0, 'Ridge Regression Validation Errors')"
      ]
     },
     "execution_count": 34,
     "metadata": {},
     "output_type": "execute_result"
    },
    {
     "data": {
      "image/png": "[encoded data removed]",
      "text/plain": [
       "<Figure size 640x480 with 1 Axes>"
      ]
     },
     "metadata": {},
     "output_type": "display_data"
    }
   ],
   "source": [
    "plt.bar(val_errors.keys(), val_errors.values())\n",
    "plt.xlabel('Lambda Coefficient')\n",
    "plt.ylabel('Validation Mean Squared Error')\n",
    "plt.title('Ridge Regression Validation Errors')"
   ]
  },
  {
   "cell_type": "code",
   "execution_count": 35,
   "id": "caf4b1fe",
   "metadata": {},
   "outputs": [
    {
     "data": {
      "text/plain": [
       "array([-4.32766423e-03, -1.10174923e-02, -1.22022084e-03,  4.52865467e-03,\n",
       "        1.79080497e-01,  3.85947741e-03,  1.13662694e-02,  1.71788009e-01,\n",
       "        5.88210958e-03,  4.75030793e-01,  9.71005360e-03,  7.47672517e-03,\n",
       "        1.74971422e-02,  7.08247487e-03,  1.22021038e-02,  1.09562791e-04,\n",
       "        6.46979831e-03,  4.61184706e-03, -6.33502132e-03,  1.32774950e-03,\n",
       "       -1.03798426e-02, -7.50199431e-03,  8.84137840e-03, -5.79558603e-03,\n",
       "        8.97704642e-03, -1.90583933e-03, -7.29792386e-04,  7.56181208e-03,\n",
       "        1.21065070e-02, -3.98122086e-03, -6.40449901e-03,  2.36195544e-03,\n",
       "        9.83233451e-03,  7.33911117e-03, -8.71050500e-03,  2.04847156e-03,\n",
       "        1.77502181e-02, -7.22118963e-03, -1.96692694e-02,  5.54690447e-01,\n",
       "        2.18036464e-03,  2.76687355e-03,  1.06146994e-03, -6.91875581e-03,\n",
       "       -3.68786115e-03,  9.31389724e-03, -5.97534965e-03,  1.65148628e-03,\n",
       "        8.17698558e-03,  3.10512345e-02,  4.28965996e-01, -5.83759352e-03,\n",
       "        5.79954200e-03,  5.69421911e-03,  2.75014755e-01,  7.71696758e-03,\n",
       "       -9.09181877e-04,  1.47546282e-02, -6.13276730e-03,  7.30994973e-01,\n",
       "       -2.00113402e-03,  3.73579335e-03,  1.09911102e-02, -1.20478466e-03,\n",
       "        8.01345708e-03,  6.69483778e-03, -8.50285221e-04,  1.11258637e-02,\n",
       "        1.49233905e-03,  9.20754181e-04,  5.36149524e-03,  4.37580612e-04,\n",
       "       -7.12451383e-03, -5.36369059e-03,  3.52598382e-03,  5.68350466e-01,\n",
       "       -1.61181591e-03, -6.39529001e-03,  7.72938085e-03,  8.02953742e-01,\n",
       "       -7.63828581e-03,  7.40465143e-03,  3.11670070e-03, -6.74921744e-03,\n",
       "        8.52803291e-03,  6.12502350e-03,  7.25918843e-03, -6.50877646e-03,\n",
       "        1.46537001e-02, -1.34329556e-04,  1.94203995e-03,  9.81405191e-03,\n",
       "       -2.96034035e-03,  6.02528615e-03,  1.01385581e-02, -4.65330488e-03,\n",
       "        2.01861736e-02,  1.92423991e-03, -1.49152428e-03, -4.34504307e-03])"
      ]
     },
     "execution_count": 35,
     "metadata": {},
     "output_type": "execute_result"
    }
   ],
   "source": [
    "w_from_ridge['0.01']"
   ]
  },
  {
   "cell_type": "code",
   "execution_count": 36,
   "id": "34aa6d0e",
   "metadata": {},
   "outputs": [
    {
     "data": {
      "text/plain": [
       "array([-7.84961008e-03, -1.36715320e-02, -3.61656438e-03,  2.64909162e-03,\n",
       "        1.88551446e-01,  2.65314657e-03,  9.46531787e-03,  1.79809482e-01,\n",
       "        3.73757317e-03,  4.99608944e-01,  8.35836264e-03,  4.29108775e-03,\n",
       "        1.42141179e-02,  3.94232414e-03,  9.36795890e-03, -1.12038274e-03,\n",
       "        3.35727498e-03,  1.16152213e-03, -9.40884704e-03, -2.45575474e-03,\n",
       "       -1.17409629e-02, -1.01960612e-02,  7.95771320e-03, -1.00574853e-02,\n",
       "        6.04882939e-03, -4.67345193e-03, -3.09091547e-03,  8.14909191e-03,\n",
       "        1.20264599e-02, -6.82458167e-03, -8.65405539e-03,  9.86273489e-04,\n",
       "        4.92968012e-03,  5.99772460e-03, -1.34667859e-02,  1.07075730e-03,\n",
       "        1.32745992e-02, -1.14148742e-02, -2.01056697e-02,  5.85096240e-01,\n",
       "        4.94483255e-04, -7.86666916e-04, -2.71926574e-03, -9.54021938e-03,\n",
       "       -5.44161059e-03,  9.80679209e-03, -6.72540624e-03, -4.45414300e-04,\n",
       "        6.98516510e-03,  3.16138907e-02,  4.51763485e-01, -8.75221378e-03,\n",
       "        2.55167390e-03,  4.24921149e-03,  2.89847927e-01,  7.03723254e-03,\n",
       "       -1.95796945e-03,  1.41523883e-02, -1.06508170e-02,  7.72743903e-01,\n",
       "       -5.67126047e-03, -6.30026187e-04,  6.50943015e-03, -4.84019165e-03,\n",
       "        4.63832328e-03,  4.54887178e-03, -2.99475114e-03,  8.38781696e-03,\n",
       "       -2.47558718e-03,  9.00947917e-04,  1.14713511e-03, -1.87641341e-03,\n",
       "       -1.05175760e-02, -9.31304110e-03, -1.23550002e-03,  5.97797559e-01,\n",
       "       -4.78625012e-03, -1.13727852e-02,  2.88477059e-03,  8.48999776e-01,\n",
       "       -1.08924235e-02,  2.26346489e-03, -1.38099798e-03, -6.35934691e-03,\n",
       "        5.83784109e-03,  5.69286755e-03,  5.35566859e-03, -8.20616315e-03,\n",
       "        1.29884015e-02, -2.30575633e-03, -1.22263772e-04,  8.66629173e-03,\n",
       "       -4.29446298e-03,  5.69510898e-03,  7.55483352e-03, -9.43540843e-03,\n",
       "        1.82905446e-02, -1.16998885e-03, -2.61599135e-03, -8.58616116e-03])"
      ]
     },
     "execution_count": 36,
     "metadata": {},
     "output_type": "execute_result"
    }
   ],
   "source": [
    "w_ML_wo_bias"
   ]
  },
  {
   "cell_type": "markdown",
   "id": "f18de656",
   "metadata": {},
   "source": [
    "## Testing"
   ]
  },
  {
   "cell_type": "code",
   "execution_count": 37,
   "id": "46e21193",
   "metadata": {},
   "outputs": [
    {
     "data": {
      "text/plain": [
       "(500, 101)"
      ]
     },
     "execution_count": 37,
     "metadata": {},
     "output_type": "execute_result"
    }
   ],
   "source": [
    "dataset_test = np.genfromtxt('A2Q2test.csv', delimiter=',')\n",
    "\n",
    "dataset_test.shape"
   ]
  },
  {
   "cell_type": "code",
   "execution_count": 38,
   "id": "e51d1b70",
   "metadata": {},
   "outputs": [
    {
     "data": {
      "text/plain": [
       "((100, 500), (500,))"
      ]
     },
     "execution_count": 38,
     "metadata": {},
     "output_type": "execute_result"
    }
   ],
   "source": [
    "X_test = dataset_test[:, :-1].T\n",
    "y_test = dataset_test[:, -1]\n",
    "X_test.shape, y_test.shape"
   ]
  },
  {
   "cell_type": "code",
   "execution_count": 39,
   "id": "9591d95e",
   "metadata": {},
   "outputs": [
    {
     "data": {
      "text/plain": [
       "(np.float64(0.37072731116921526), np.float64(0.3519205403712121))"
      ]
     },
     "execution_count": 39,
     "metadata": {},
     "output_type": "execute_result"
    }
   ],
   "source": [
    "error_ML_wo_bias = np.mean((y_test - w_ML_wo_bias.T @ X_test) ** 2)\n",
    "error_ridge = np.mean((y_test - w_from_ridge['0.01'].T @ X_test) ** 2)\n",
    "\n",
    "error_ML_wo_bias, error_ridge"
   ]
  }
 ],
 "metadata": {
  "kernelspec": {
   "display_name": "fml_assignment_2",
   "language": "python",
   "name": "python3"
  },
  "language_info": {
   "codemirror_mode": {
    "name": "ipython",
    "version": 3
   },
   "file_extension": ".py",
   "mimetype": "text/x-python",
   "name": "python",
   "nbconvert_exporter": "python",
   "pygments_lexer": "ipython3",
   "version": "3.13.7"
  }
 },
 "nbformat": 4,
 "nbformat_minor": 5
}
