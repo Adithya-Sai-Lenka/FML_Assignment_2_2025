{
 "cells": [
  {
   "cell_type": "code",
   "execution_count": 1,
   "id": "dcfbbd4d",
   "metadata": {},
   "outputs": [],
   "source": [
    "import numpy as np\n",
    "import matplotlib.pyplot as plt\n",
    "\n",
    "dataset = np.genfromtxt('A2Q1.csv', delimiter=',')"
   ]
  },
  {
   "cell_type": "code",
   "execution_count": 2,
   "id": "f445c985",
   "metadata": {},
   "outputs": [
    {
     "data": {
      "text/plain": [
       "(400, 50)"
      ]
     },
     "execution_count": 2,
     "metadata": {},
     "output_type": "execute_result"
    }
   ],
   "source": [
    "dataset.shape"
   ]
  },
  {
   "cell_type": "markdown",
   "id": "9d0dc7fa",
   "metadata": {},
   "source": [
    "# EDA"
   ]
  },
  {
   "cell_type": "code",
   "execution_count": 3,
   "id": "9bb8cbf4",
   "metadata": {},
   "outputs": [
    {
     "data": {
      "image/png": "[encoded data removed]",
      "text/plain": [
       "<Figure size 1200x600 with 10 Axes>"
      ]
     },
     "metadata": {},
     "output_type": "display_data"
    }
   ],
   "source": [
    "plt.figure(figsize=(12, 6))\n",
    "\n",
    "idxs = np.random.choice(dataset.shape[0], 10, replace=False)\n",
    "\n",
    "for i, idx in enumerate(idxs):\n",
    "    plt.subplot(2, 5, i + 1)\n",
    "    plt.imshow(dataset[idx].reshape(5, 10), cmap='gray')\n",
    "\n",
    "plt.tight_layout()\n",
    "plt.show()"
   ]
  },
  {
   "cell_type": "code",
   "execution_count": 4,
   "id": "d3bbcb83",
   "metadata": {},
   "outputs": [
    {
     "data": {
      "text/plain": [
       "array([ 35.,  37.,  43.,  34.,  38.,  46.,  45.,  33.,  36.,  49.,  45.,\n",
       "        52., 285., 349., 360., 367., 354., 355., 366.,  32.,  39.,  48.,\n",
       "       274., 110., 344., 119., 280.,  31.,  41.,  42.,  33.,  51., 274.,\n",
       "       356., 355., 119., 271., 289., 280.,  48.,  33.,  40.,  30.,  46.,\n",
       "        36.,  48.,  40.,  34.,  33.,  37.])"
      ]
     },
     "execution_count": 4,
     "metadata": {},
     "output_type": "execute_result"
    }
   ],
   "source": [
    "np.sum(dataset, axis=0)"
   ]
  },
  {
   "cell_type": "markdown",
   "id": "618f29a6",
   "metadata": {},
   "source": [
    "# EM for BMM"
   ]
  },
  {
   "cell_type": "code",
   "execution_count": 5,
   "id": "c22b9142",
   "metadata": {},
   "outputs": [],
   "source": [
    "np.random.seed(42)"
   ]
  },
  {
   "cell_type": "code",
   "execution_count": 6,
   "id": "5ab18801",
   "metadata": {},
   "outputs": [
    {
     "data": {
      "text/plain": [
       "(400, 50)"
      ]
     },
     "execution_count": 6,
     "metadata": {},
     "output_type": "execute_result"
    }
   ],
   "source": [
    "dataset.shape"
   ]
  },
  {
   "cell_type": "code",
   "execution_count": 7,
   "id": "8aa81cfc",
   "metadata": {},
   "outputs": [],
   "source": [
    "def bernoulli_mixture_em(X, K=4, max_iter=50, random_state=42):\n",
    "    np.random.seed(random_state)\n",
    "    N, D = X.shape\n",
    "\n",
    "    # Initialize parameters\n",
    "    pi = np.ones(K) / K\n",
    "    mu = np.random.rand(K, D) * 0.5 + 0.25  # Avoid extreme values\n",
    "\n",
    "    log_likelihoods = []\n",
    "\n",
    "    for iteration in range(max_iter):\n",
    "        # E-step\n",
    "        resp = np.zeros((N, K))\n",
    "\n",
    "        ll = 0\n",
    "        for i in range(N):\n",
    "            for k in range(K):\n",
    "                prob = np.prod(mu[k]**X[i] * (1 - mu[k])**(1 - X[i]))\n",
    "                resp[i, k] = pi[k] * prob\n",
    "\n",
    "            ll += np.log(resp[i].sum())\n",
    "        resp /= resp.sum(axis=1, keepdims=True)\n",
    "\n",
    "        log_likelihoods.append(ll)\n",
    "\n",
    "        # M-step\n",
    "        N_k = resp.sum(axis=0)\n",
    "        pi = N_k / N\n",
    "        mu = (resp.T @ X) / N_k[:, np.newaxis]\n",
    "\n",
    "    # Final LL computation\n",
    "    resp = np.zeros((N, K))\n",
    "    ll = 0\n",
    "    for i in range(N):\n",
    "        for k in range(K):\n",
    "            prob = np.prod(mu[k]**X[i] * (1 - mu[k])**(1 - X[i]))\n",
    "            resp[i, k] = pi[k] * prob\n",
    "        ll+= np.log(resp[i].sum())\n",
    "    log_likelihoods.append(ll)\n",
    "    \n",
    "    return pi, mu, log_likelihoods\n",
    "    "
   ]
  },
  {
   "cell_type": "code",
   "execution_count": 8,
   "id": "1fbcc0c9",
   "metadata": {},
   "outputs": [],
   "source": [
    "from tqdm import tqdm"
   ]
  },
  {
   "cell_type": "code",
   "execution_count": 9,
   "id": "51210065",
   "metadata": {},
   "outputs": [
    {
     "name": "stderr",
     "output_type": "stream",
     "text": [
      "100%|██████████| 100/100 [00:12<00:00,  8.11it/s]\n"
     ]
    },
    {
     "data": {
      "text/plain": [
       "[<matplotlib.lines.Line2D at 0x110643890>]"
      ]
     },
     "execution_count": 9,
     "metadata": {},
     "output_type": "execute_result"
    },
    {
     "data": {
      "image/png": "[encoded data removed]",
      "text/plain": [
       "<Figure size 640x480 with 1 Axes>"
      ]
     },
     "metadata": {},
     "output_type": "display_data"
    }
   ],
   "source": [
    "N_init = 100\n",
    "np.random.seed(42)\n",
    "seeds = np.random.randint(0, 100, N_init)\n",
    "\n",
    "all_lls = []\n",
    "for i in tqdm(range(N_init)):\n",
    "    pi, mu, log_likelihoods = bernoulli_mixture_em(dataset, K=4, max_iter=25, random_state=seeds[i])\n",
    "    all_lls.append(log_likelihoods)\n",
    "\n",
    "all_lls = np.array(all_lls)\n",
    "avg_lls = all_lls.mean(axis=0)\n",
    "\n",
    "plt.plot(avg_lls)\n"
   ]
  },
  {
   "cell_type": "markdown",
   "id": "4376ed97",
   "metadata": {},
   "source": [
    "# GMM"
   ]
  },
  {
   "cell_type": "code",
   "execution_count": 10,
   "id": "158409ce",
   "metadata": {},
   "outputs": [],
   "source": [
    "def gaussian_mixture_em(X, K=4, max_iter=50, random_state=42):\n",
    "    np.random.seed(random_state)\n",
    "    N, D = X.shape\n",
    "\n",
    "    # Initialize parameters\n",
    "    pi = np.ones(K) / K\n",
    "    # Choose random data points as initial means\n",
    "    mu = X[np.random.choice(N, K, replace=False)]\n",
    "    # Initialize covariances to identity matrices\n",
    "    sigma = np.array([np.eye(D) for _ in range(K)]) ## Assume given the mixture, features are independent\n",
    "\n",
    "    log_likelihoods = []\n",
    "\n",
    "    # Epsilon for numerical stability\n",
    "    EPS = 1e-9 # To prevent singular covariance matrices during inversion\n",
    "    reg_covariance = 1e-6\n",
    "\n",
    "    for iteration in range(max_iter):\n",
    "        # E-step\n",
    "        resp = np.zeros((N, K))\n",
    "\n",
    "        inv_sigma = np.zeros_like(sigma)\n",
    "        dets = np.zeros(K)\n",
    "        coeffs = np.zeros(K)\n",
    "        \n",
    "        for k in range(K):\n",
    "            # Rely on regularization in M-step during previous iteration to ensure sigma is invertible\n",
    "            inv_sigma[k] = np.linalg.inv(sigma[k])\n",
    "            dets[k] = np.linalg.det(sigma[k])\n",
    "            coeffs[k] = 1 / np.sqrt((2 * np.pi) ** D * dets[k])\n",
    "\n",
    "        ll = 0\n",
    "        for i in range(N):\n",
    "            for k in range(K):\n",
    "                diff = X[i] - mu[k]\n",
    "                exponent = -0.5 * diff.T @ inv_sigma[k] @ diff\n",
    "                prob = coeffs[k] * np.exp(exponent)\n",
    "                resp[i, k] = pi[k] * prob\n",
    "\n",
    "            row_sum = resp[i].sum()\n",
    "            # Handle numerical underflow where prob is 0 for all k\n",
    "            if row_sum > EPS:\n",
    "                ll += np.log(row_sum)\n",
    "\n",
    "        resp_sum = resp.sum(axis=1, keepdims=True)    \n",
    "        resp /= (resp_sum + EPS)  # Avoid division by zero\n",
    "\n",
    "        log_likelihoods.append(ll)\n",
    "\n",
    "        # M-step\n",
    "        N_k = resp.sum(axis=0)\n",
    "        pi = N_k / N\n",
    "        mu = (resp.T @ X) / (N_k[:, np.newaxis]+ EPS)\n",
    "\n",
    "        for k in range(K):\n",
    "            diff = X - mu[k]\n",
    "            sigma[k] = (resp[:, k][:, np.newaxis] * diff).T @ diff / (N_k[k] + EPS)\n",
    "\n",
    "            sigma[k] += reg_covariance * np.eye(D)  # Regularization to ensure positive definiteness\n",
    "\n",
    "    # Final LL computation\n",
    "    inv_sigma = np.zeros_like(sigma)\n",
    "    dets = np.zeros(K)\n",
    "    coeffs = np.zeros(K)\n",
    "    for k in range(K):\n",
    "        inv_sigma[k] = np.linalg.inv(sigma[k])\n",
    "        dets[k] = np.linalg.det(sigma[k])\n",
    "        coeffs[k] = 1 / np.sqrt((2 * np.pi) ** D * dets[k])\n",
    "\n",
    "    final_ll = 0\n",
    "\n",
    "    for i in range(N):\n",
    "        prob_i = 0\n",
    "        for k in range(K):\n",
    "            diff = X[i] - mu[k]\n",
    "            exponent = -0.5 * diff.T @ inv_sigma[k] @ diff\n",
    "            prob = coeffs[k] * np.exp(exponent)\n",
    "            prob_i += pi[k] * prob\n",
    "        \n",
    "        if prob_i > EPS:\n",
    "            final_ll += np.log(prob_i)\n",
    "\n",
    "    log_likelihoods.append(final_ll)\n",
    "\n",
    "    return pi, mu, sigma, log_likelihoods"
   ]
  },
  {
   "cell_type": "code",
   "execution_count": 11,
   "id": "a8746a15",
   "metadata": {},
   "outputs": [
    {
     "name": "stderr",
     "output_type": "stream",
     "text": [
      "  0%|          | 0/100 [00:00<?, ?it/s]/Users/adithya_lenka/miniconda3/envs/fml_assignment_2/lib/python3.13/site-packages/numpy/linalg/_linalg.py:2431: RuntimeWarning: divide by zero encountered in det\n",
      "  r = _umath_linalg.det(a, signature=signature)\n",
      "/Users/adithya_lenka/miniconda3/envs/fml_assignment_2/lib/python3.13/site-packages/numpy/linalg/_linalg.py:2431: RuntimeWarning: overflow encountered in det\n",
      "  r = _umath_linalg.det(a, signature=signature)\n",
      "/Users/adithya_lenka/miniconda3/envs/fml_assignment_2/lib/python3.13/site-packages/numpy/linalg/_linalg.py:2431: RuntimeWarning: invalid value encountered in det\n",
      "  r = _umath_linalg.det(a, signature=signature)\n",
      "100%|██████████| 100/100 [00:13<00:00,  7.43it/s]\n"
     ]
    },
    {
     "data": {
      "image/png": "[encoded data removed]",
      "text/plain": [
       "<Figure size 640x480 with 1 Axes>"
      ]
     },
     "metadata": {},
     "output_type": "display_data"
    }
   ],
   "source": [
    "N_init = 100\n",
    "np.random.seed(42)\n",
    "seeds = np.random.randint(0, 100, N_init)\n",
    "\n",
    "all_lls = []\n",
    "for i in tqdm(range(N_init)):\n",
    "    pi, mu, sigma, log_likelihoods = gaussian_mixture_em(dataset, K=4, max_iter=25, random_state=seeds[i])\n",
    "    all_lls.append(log_likelihoods)\n",
    "\n",
    "all_lls = np.array(all_lls)\n",
    "avg_lls = all_lls.mean(axis=0)\n",
    "\n",
    "plt.plot(avg_lls)\n",
    "plt.grid(True)\n",
    "plt.show()\n"
   ]
  },
  {
   "cell_type": "markdown",
   "id": "e4988506",
   "metadata": {},
   "source": [
    "## Working in Log-Space"
   ]
  },
  {
   "cell_type": "code",
   "execution_count": 12,
   "id": "74aa0f5c",
   "metadata": {},
   "outputs": [],
   "source": [
    "def gaussian_mixture_em_robust(X, K=4, max_iter=50, random_state=42, reg_covar=1e-14):\n",
    "    \"\"\"\n",
    "    Numerically stable implementation of EM for GMM using log-probabilities.\n",
    "    \"\"\"\n",
    "    np.random.seed(random_state)\n",
    "    N, D = X.shape\n",
    "\n",
    "    # Initialize parameters\n",
    "    pi = np.ones(K) / K\n",
    "    mu = X[np.random.choice(N, K, replace=False)]\n",
    "    sigma = np.array([np.eye(D) for _ in range(K)])\n",
    "\n",
    "    log_likelihoods = []\n",
    "    EPS = 1e-9 # For numerical stability\n",
    "\n",
    "    for iteration in range(max_iter):\n",
    "        \n",
    "        # --- E-step (in Log-Space) ---\n",
    "        \n",
    "        # log_resp shape (N, K)\n",
    "        # We will compute log(pi_k * N(x_i | mu_k, sigma_k))\n",
    "        # = log(pi_k) + log(N(x_i | mu_k, sigma_k))\n",
    "        log_resp = np.zeros((N, K))\n",
    "\n",
    "        for k in range(K):\n",
    "            # Pre-calculate inverse and log-determinant\n",
    "            try:\n",
    "                inv_sigma_k = np.linalg.inv(sigma[k])\n",
    "                # slogdet returns (sign, log_det). \n",
    "                # Since sigma is positive definite, sign is 1.\n",
    "                sign, log_det_sigma_k = np.linalg.slogdet(sigma[k])\n",
    "                \n",
    "                # This check handles the (rare) case where slogdet still fails\n",
    "                if sign < 1 or not np.isfinite(log_det_sigma_k):\n",
    "                    raise np.linalg.LinAlgError\n",
    "            \n",
    "            except np.linalg.LinAlgError:\n",
    "                # If matrix is singular even with regularization,\n",
    "                # this component is dead. Assign it -inf log-prob.\n",
    "                log_resp[:, k] = -np.inf\n",
    "                continue\n",
    "\n",
    "            # This is log(coeff) from your original code\n",
    "            # log( 1 / sqrt((2*pi)^D * det(sigma)) )\n",
    "            # = -0.5 * (D * log(2*pi) + log_det(sigma))\n",
    "            log_coeff = -0.5 * (D * np.log(2 * np.pi) + log_det_sigma_k)\n",
    "\n",
    "            # This is the log(exponent) part for all N points at once\n",
    "            # -0.5 * (X - mu_k).T @ inv(sigma_k) @ (X - mu_k)\n",
    "            diff = X - mu[k]\n",
    "            # (diff @ inv_sigma_k) has shape (N, D)\n",
    "            # np.sum(..., axis=1) performs the dot product for each row\n",
    "            log_exponent = -0.5 * np.sum((diff @ inv_sigma_k) * diff, axis=1)\n",
    "\n",
    "            # log(pi_k) + log(N(x_i | ...))\n",
    "            log_resp[:, k] = np.log(pi[k] + EPS) + log_coeff + log_exponent\n",
    "\n",
    "        # Now, normalize the log_resp matrix to get responsibilities\n",
    "        # This is the \"log-sum-exp\" trick for numerical stability\n",
    "        \n",
    "        # 1. Find the maximum log-prob for each data point\n",
    "        log_resp_max = np.max(log_resp, axis=1, keepdims=True)\n",
    "        \n",
    "        # 2. Subtract max to prevent overflow when exponentiating\n",
    "        # (This handles rows that might be all -inf)\n",
    "        log_resp_shifted = log_resp - log_resp_max\n",
    "        with np.errstate(over='ignore', under='ignore'):\n",
    "             exp_log_resp_shifted = np.exp(log_resp_shifted)\n",
    "\n",
    "        # 3. Sum the probabilities (which are now between 0 and 1)\n",
    "        resp_sum = np.sum(exp_log_resp_shifted, axis=1, keepdims=True)\n",
    "        \n",
    "        # 4. Normalize to get responsibilities\n",
    "        resp = exp_log_resp_shifted / (resp_sum + EPS)\n",
    "        \n",
    "        # Calculate log-likelihood for this iteration\n",
    "        # LL = sum_i( log(sum_k( pi_k * N_k )) )\n",
    "        # Using the log-sum-exp trick again:\n",
    "        # LL = sum_i( log_resp_max_i + log(sum_k(exp(log_resp_shifted_ik))) )\n",
    "        # LL = sum_i( log_resp_max_i + log(resp_sum_i) )\n",
    "        ll = np.sum(log_resp_max.ravel() + np.log(resp_sum.ravel() + EPS))\n",
    "        log_likelihoods.append(ll)\n",
    "\n",
    "\n",
    "        # --- M-step (Unchanged) ---\n",
    "        N_k = resp.sum(axis=0)\n",
    "        \n",
    "        # Add EPS to N_k to prevent division by zero if a component dies\n",
    "        N_k_stable = N_k + EPS\n",
    "        \n",
    "        pi = N_k / N\n",
    "        mu = (resp.T @ X) / N_k_stable[:, np.newaxis]\n",
    "        \n",
    "        for k in range(K):\n",
    "            diff = X - mu[k]\n",
    "            sigma[k] = (resp[:, k][:, np.newaxis] * diff).T @ diff / N_k_stable[k]\n",
    "            \n",
    "            # Add regularization\n",
    "            sigma[k] += np.eye(D) * reg_covar\n",
    "\n",
    "    # Final LL is just the last one we computed\n",
    "    if log_likelihoods:\n",
    "        log_likelihoods.append(log_likelihoods[-1])\n",
    "    else:\n",
    "        # Handle case where max_iter = 0\n",
    "        log_likelihoods.append(np.nan)\n",
    "\n",
    "\n",
    "    return pi, mu, sigma, log_likelihoods"
   ]
  },
  {
   "cell_type": "code",
   "execution_count": 13,
   "id": "0a55a194",
   "metadata": {},
   "outputs": [
    {
     "name": "stderr",
     "output_type": "stream",
     "text": [
      "  0%|          | 0/100 [00:00<?, ?it/s]/Users/adithya_lenka/miniconda3/envs/fml_assignment_2/lib/python3.13/site-packages/numpy/linalg/_linalg.py:2374: RuntimeWarning: divide by zero encountered in slogdet\n",
      "  sign, logdet = _umath_linalg.slogdet(a, signature=signature)\n",
      "/Users/adithya_lenka/miniconda3/envs/fml_assignment_2/lib/python3.13/site-packages/numpy/linalg/_linalg.py:2374: RuntimeWarning: overflow encountered in slogdet\n",
      "  sign, logdet = _umath_linalg.slogdet(a, signature=signature)\n",
      "/Users/adithya_lenka/miniconda3/envs/fml_assignment_2/lib/python3.13/site-packages/numpy/linalg/_linalg.py:2374: RuntimeWarning: invalid value encountered in slogdet\n",
      "  sign, logdet = _umath_linalg.slogdet(a, signature=signature)\n",
      "100%|██████████| 100/100 [00:01<00:00, 90.19it/s]\n"
     ]
    },
    {
     "data": {
      "image/png": "[encoded data removed]",
      "text/plain": [
       "<Figure size 640x480 with 1 Axes>"
      ]
     },
     "metadata": {},
     "output_type": "display_data"
    }
   ],
   "source": [
    "N_init = 100\n",
    "np.random.seed(42)\n",
    "seeds = np.random.randint(0, 100, N_init)\n",
    "\n",
    "all_lls = []\n",
    "for i in tqdm(range(N_init)):\n",
    "    pi, mu, sigma, log_likelihoods = gaussian_mixture_em_robust(dataset, K=4, max_iter=25, random_state=seeds[i])\n",
    "    all_lls.append(log_likelihoods)\n",
    "\n",
    "all_lls = np.array(all_lls)\n",
    "avg_lls = all_lls.mean(axis=0)\n",
    "\n",
    "plt.plot(avg_lls)\n",
    "plt.grid(True)\n",
    "plt.show()\n"
   ]
  },
  {
   "cell_type": "markdown",
   "id": "1559f6b5",
   "metadata": {},
   "source": [
    "# K-Means"
   ]
  },
  {
   "cell_type": "code",
   "execution_count": 14,
   "id": "70462368",
   "metadata": {},
   "outputs": [],
   "source": [
    "def kmeans(X, K=4, max_iter=50, random_state=42):\n",
    "    np.random.seed(random_state)\n",
    "    N, D = X.shape\n",
    "\n",
    "    # Initialize centroids by randomly selecting K data points\n",
    "    centroids = X[np.random.choice(N, K, replace=False)]\n",
    "    \n",
    "    objective_values = [] # Sum of squared distances from cluster centroid\n",
    "\n",
    "    for iteration in range(max_iter):\n",
    "        distances = np.sum((X[:, np.newaxis, :] - centroids[np.newaxis, :, :]) ** 2, axis=2)  # Shape (N, K)\n",
    "        cluster_assignments = np.argmin(distances, axis=1)  # Shape (N,)\n",
    "\n",
    "        obj = distances[np.arange(N), cluster_assignments].sum()\n",
    "        objective_values.append(obj)\n",
    "\n",
    "        for k in range(K):\n",
    "            points_in_cluster = X[cluster_assignments == k]\n",
    "            if len(points_in_cluster) > 0:\n",
    "                centroids[k] = points_in_cluster.mean(axis=0)\n",
    "            else:\n",
    "                # If a cluster gets no points, reinitialize its centroid randomly\n",
    "                centroids[k] = X[np.random.choice(N)]\n",
    "    \n",
    "    return centroids, cluster_assignments, objective_values    "
   ]
  },
  {
   "cell_type": "code",
   "execution_count": 15,
   "id": "172de874",
   "metadata": {},
   "outputs": [
    {
     "name": "stderr",
     "output_type": "stream",
     "text": [
      "100%|██████████| 10/10 [00:00<00:00, 376.38it/s]\n"
     ]
    },
    {
     "data": {
      "image/png": "[encoded data removed]",
      "text/plain": [
       "<Figure size 640x480 with 1 Axes>"
      ]
     },
     "metadata": {},
     "output_type": "display_data"
    }
   ],
   "source": [
    "N_init = 10\n",
    "np.random.seed(42)\n",
    "seeds = np.random.randint(0, 100, N_init)\n",
    "\n",
    "all_lls = []\n",
    "for i in tqdm(range(N_init)):\n",
    "    centroids, assignments, objective_values = kmeans(dataset, K=4, max_iter=25, random_state=seeds[i])\n",
    "    all_lls.append(objective_values)\n",
    "\n",
    "all_lls = np.array(all_lls)\n",
    "avg_lls = all_lls.mean(axis=0)\n",
    "\n",
    "plt.plot(avg_lls)\n",
    "plt.grid(True)\n",
    "plt.show()\n"
   ]
  }
 ],
 "metadata": {
  "kernelspec": {
   "display_name": "fml_assignment_2",
   "language": "python",
   "name": "python3"
  },
  "language_info": {
   "codemirror_mode": {
    "name": "ipython",
    "version": 3
   },
   "file_extension": ".py",
   "mimetype": "text/x-python",
   "name": "python",
   "nbconvert_exporter": "python",
   "pygments_lexer": "ipython3",
   "version": "3.13.7"
  }
 },
 "nbformat": 4,
 "nbformat_minor": 5
}
